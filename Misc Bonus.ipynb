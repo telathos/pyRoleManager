{
 "cells": [
  {
   "cell_type": "code",
   "execution_count": 30,
   "metadata": {},
   "outputs": [
    {
     "name": "stdout",
     "output_type": "stream",
     "text": [
      "---------------------------------------------------------\n",
      "| 1.) Strength  ( 0  )        6.) Constitution    ( 0  ) |\n",
      "| 2.) Quickness ( 0  )        7.) Agility         ( 0  ) |\n",
      "| 3.) Presence  ( 0  )        8.) Self Discipline ( 0  ) |\n",
      "| 4.) Intuition ( 0  )        9.) Memory          ( 0  ) |\n",
      "| 5.) Empathy   ( 0  )       10.) Reasoning       ( 0  ) |\n",
      "|                                                        |\n",
      "| X.) Exit                                               |\n",
      "----------------------------------------------------------\n",
      "\n",
      "Select Stat to add a bonus: x\n",
      "Exiting..\n"
     ]
    }
   ],
   "source": [
    "mb=\"\"\n",
    "setstmb,setqumb,setprmb,setinmb,setemmb=0,0,0,0,0\n",
    "setcomb,setagmb,setsdmb,setmemb,setremb=0,0,0,0,0\n",
    "def mbset():\n",
    "    global mb\n",
    "    mb=int(raw_input(\"Bonus: \"))\n",
    "    return mb\n",
    "\n",
    "mbloop=True\n",
    "while mbloop:\n",
    "    print 58 * \"-\"\n",
    "    print \"| 1.) Strength  ({:^4})        6.) Constitution    ({:^4}) |\".format(setstmb,setcomb)\n",
    "    print \"| 2.) Quickness ({:^4})        7.) Agility         ({:^4}) |\".format(setqumb,setagmb)\n",
    "    print \"| 3.) Presence  ({:^4})        8.) Self Discipline ({:^4}) |\".format(setprmb,setsdmb)\n",
    "    print \"| 4.) Intuition ({:^4})        9.) Memory          ({:^4}) |\".format(setinmb,setmemb)\n",
    "    print \"| 5.) Empathy   ({:^4})       10.) Reasoning       ({:^4}) |\".format(setemmb,setremb)\n",
    "    print \"|                                                        |\"\n",
    "    print \"| X.) Exit                                               |\"\n",
    "    print 58 * \"-\"\n",
    "    print\n",
    "    mbch=raw_input('Select Stat to add a bonus: ')\n",
    "    if mbch == \"1\":\n",
    "        mbset()\n",
    "        setstmb=mb\n",
    "    if mbch == \"2\":\n",
    "        mbset()\n",
    "        setqumb=mb\n",
    "    if mbch == \"3\":\n",
    "        mbset()\n",
    "        setprmb=mb\n",
    "    if mbch == \"4\":\n",
    "        mbset()\n",
    "        setinmb=mb\n",
    "    if mbch == \"5\":\n",
    "        mbset()\n",
    "        setemmb=mb\n",
    "    if mbch == \"6\":\n",
    "        mbset()\n",
    "        setcomb=mb\n",
    "    if mbch == \"7\":\n",
    "        mbset()\n",
    "        setagmb=mb\n",
    "    if mbch == \"8\":\n",
    "        mbset()\n",
    "        setsdmb=mb\n",
    "    if mbch == \"9\":\n",
    "        mbset()\n",
    "        setmemb=mb\n",
    "    if mbch == \"10\":\n",
    "        mbset()\n",
    "        setremb=mb\n",
    "    if mbch.upper() == \"X\":\n",
    "        print \"Exiting..\"\n",
    "        mbloop=False\n",
    "        "
   ]
  },
  {
   "cell_type": "code",
   "execution_count": null,
   "metadata": {
    "collapsed": true
   },
   "outputs": [],
   "source": []
  }
 ],
 "metadata": {
  "kernelspec": {
   "display_name": "Python 2",
   "language": "python",
   "name": "python2"
  },
  "language_info": {
   "codemirror_mode": {
    "name": "ipython",
    "version": 2
   },
   "file_extension": ".py",
   "mimetype": "text/x-python",
   "name": "python",
   "nbconvert_exporter": "python",
   "pygments_lexer": "ipython2",
   "version": "2.7.14"
  }
 },
 "nbformat": 4,
 "nbformat_minor": 2
}
