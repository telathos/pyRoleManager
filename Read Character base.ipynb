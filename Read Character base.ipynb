{
 "cells": [
  {
   "cell_type": "code",
   "execution_count": 36,
   "metadata": {},
   "outputs": [
    {
     "name": "stdout",
     "output_type": "stream",
     "text": [
      "Necro:Necromancer:56:76:99:98:99:45:56:78:98:78:\n",
      "Necro\n"
     ]
    },
    {
     "ename": "NameError",
     "evalue": "name 'char_dict' is not defined",
     "output_type": "error",
     "traceback": [
      "\u001b[1;31m---------------------------------------------------------------------------\u001b[0m",
      "\u001b[1;31mNameError\u001b[0m                                 Traceback (most recent call last)",
      "\u001b[1;32m<ipython-input-36-01a8f91e84f6>\u001b[0m in \u001b[0;36m<module>\u001b[1;34m()\u001b[0m\n\u001b[0;32m      8\u001b[0m     \u001b[1;32mprint\u001b[0m \u001b[0mwords\u001b[0m\u001b[1;33m\u001b[0m\u001b[0m\n\u001b[0;32m      9\u001b[0m     \u001b[1;31m#print i\u001b[0m\u001b[1;33m\u001b[0m\u001b[1;33m\u001b[0m\u001b[0m\n\u001b[1;32m---> 10\u001b[1;33m     \u001b[0mchar_dict\u001b[0m\u001b[1;33m[\u001b[0m\u001b[0mi\u001b[0m\u001b[1;33m]\u001b[0m\u001b[1;33m=\u001b[0m\u001b[0mwords\u001b[0m\u001b[1;33m\u001b[0m\u001b[0m\n\u001b[0m\u001b[0;32m     11\u001b[0m     \u001b[0mi\u001b[0m\u001b[1;33m+=\u001b[0m\u001b[1;36m1\u001b[0m\u001b[1;33m\u001b[0m\u001b[0m\n\u001b[0;32m     12\u001b[0m \u001b[1;32mprint\u001b[0m \u001b[0mchar_dict\u001b[0m\u001b[1;33m[\u001b[0m\u001b[1;36m0\u001b[0m\u001b[1;33m]\u001b[0m\u001b[1;33m\u001b[0m\u001b[0m\n",
      "\u001b[1;31mNameError\u001b[0m: name 'char_dict' is not defined"
     ]
    }
   ],
   "source": [
    "file=open(\"necro.txt\",\"r\")\n",
    "char_data=file.read()\n",
    "print char_data\n",
    "\n",
    "i=0\n",
    "for words in char_data.split(\":\"):\n",
    "    \n",
    "    print words\n",
    "    #print i\n",
    "    char_dict[i]=words\n",
    "    i+=1\n",
    "print char_dict[0]\n",
    "print char_dict[10]"
   ]
  },
  {
   "cell_type": "code",
   "execution_count": 1,
   "metadata": {},
   "outputs": [
    {
     "name": "stdout",
     "output_type": "stream",
     "text": [
      "Assassin,-\n",
      "Bounty Hunter,-\n",
      "['Barbarian', '10']\n",
      "Barbarian\n",
      "10\n",
      "loop\n",
      "Assassin\n",
      "loop\n",
      "-\n"
     ]
    }
   ],
   "source": [
    "prolist=open(\"cfg/pro.csv\",\"r\")\n",
    "pro=prolist.read()\n",
    "pp={}\n",
    "i=1\n",
    "for x in pro.splitlines():\n",
    "    #print x\n",
    "    pp[i]=x\n",
    "    i+=1\n",
    "    #print pp\n",
    "print pp[1]\n",
    "print pp[2]\n",
    "print pp[3].split(\",\")\n",
    "t=pp[3].split(\",\")\n",
    "print t[0]\n",
    "print t[1]\n",
    "num=1\n",
    "for n in pp[num].split(\",\"):\n",
    "    print \"loop\"\n",
    "    print n\n",
    "\n",
    "\n"
   ]
  },
  {
   "cell_type": "code",
   "execution_count": 3,
   "metadata": {},
   "outputs": [
    {
     "name": "stdout",
     "output_type": "stream",
     "text": [
      "-\n",
      "{1: ['Assassin', '-'], 2: ['Bounty Hunter', '-'], 3: ['Barbarian', '10'], 4: ['Burglar', '11'], 5: ['Dancer', '12'], 6: ['Fighter', '13'], 7: ['High Warrior Monk', '14'], 8: ['Rogue', '15'], 9: ['Scholar', '16'], 10: ['Thief', '17'], 11: ['Trader', '18'], 12: ['Warrior', '-'], 13: ['Warrior Monk', '19'], 14: ['Alchemist', '8'], 15: ['Animist', '9'], 16: ['Cleric', '35'], 17: ['Conjuror', '33'], 18: ['Druid', '36'], 19: ['Healer', '37'], 20: ['Illusionist', '34'], 21: ['Lay Healer', '39'], 22: ['Magician', '31'], 23: ['Mentalist', '41'], 24: ['Runemaster', '32'], 25: ['Sage', '40'], 26: ['Seer', '42'], 27: ['Shaman', '38'], 28: ['Bard', '20'], 29: ['Beastmaster', '21'], 30: ['Delver', '22'], 31: ['Dervish', '23'], 32: ['Monk', '24'], 33: ['Montebanc', '-'], 34: ['Nightblade', '25'], 35: ['Noble Warrior', '-'], 36: ['Paladin', '26'], 37: ['Ranger', '27'], 38: ['Sleuth', '-'], 39: ['Warrior Mage', '28'], 40: ['Archmage', '29'], 41: ['Astrologer', '43'], 42: ['Crystal Mage', '44'], 43: ['Magus.-'], 44: ['Mystic', '45'], 45: ['Necromancer', '46'], 46: ['Sorcerer', '30'], 47: ['Warlock', '47'], 48: ['Witch', '48']}\n"
     ]
    }
   ],
   "source": []
  },
  {
   "cell_type": "code",
   "execution_count": null,
   "metadata": {
    "collapsed": true
   },
   "outputs": [],
   "source": []
  }
 ],
 "metadata": {
  "kernelspec": {
   "display_name": "Python 2",
   "language": "python",
   "name": "python2"
  },
  "language_info": {
   "codemirror_mode": {
    "name": "ipython",
    "version": 2
   },
   "file_extension": ".py",
   "mimetype": "text/x-python",
   "name": "python",
   "nbconvert_exporter": "python",
   "pygments_lexer": "ipython2",
   "version": "2.7.13"
  }
 },
 "nbformat": 4,
 "nbformat_minor": 2
}
