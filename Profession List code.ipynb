{
 "cells": [
  {
   "cell_type": "code",
   "execution_count": 2,
   "metadata": {},
   "outputs": [
    {
     "name": "stdout",
     "output_type": "stream",
     "text": [
      "Assassin\n",
      "-\n",
      "{1: ['Assassin', '-'], 2: ['Bounty Hunter', '-'], 3: ['Barbarian', '10'], 4: ['Burglar', '11'], 5: ['Dancer', '12'], 6: ['Fighter', '13'], 7: ['High Warrior Monk', '14'], 8: ['Rogue', '15'], 9: ['Scholar', '16'], 10: ['Thief', '17'], 11: ['Trader', '18'], 12: ['Warrior', '-'], 13: ['Warrior Monk', '19'], 14: ['Alchemist', '8'], 15: ['Animist', '9'], 16: ['Cleric', '35'], 17: ['Conjuror', '33'], 18: ['Druid', '36'], 19: ['Healer', '37'], 20: ['Illusionist', '34'], 21: ['Lay Healer', '39'], 22: ['Magician', '31'], 23: ['Mentalist', '41'], 24: ['Runemaster', '32'], 25: ['Sage', '40'], 26: ['Seer', '42'], 27: ['Shaman', '38'], 28: ['Bard', '20'], 29: ['Beastmaster', '21'], 30: ['Delver', '22'], 31: ['Dervish', '23'], 32: ['Monk', '24'], 33: ['Montebanc', '-'], 34: ['Nightblade', '25'], 35: ['Noble Warrior', '-'], 36: ['Paladin', '26'], 37: ['Ranger', '27'], 38: ['Sleuth', '-'], 39: ['Warrior Mage', '28'], 40: ['Archmage', '29'], 41: ['Astrologer', '43'], 42: ['Crystal Mage', '44'], 43: ['Magus.-'], 44: ['Mystic', '45'], 45: ['Necromancer', '46'], 46: ['Sorcerer', '30'], 47: ['Warlock', '47'], 48: ['Witch', '48']}\n"
     ]
    }
   ],
   "source": [
    "plist = {}\n",
    "pi=1\n",
    "with open(\"cfg/pro.csv\") as pf:\n",
    "    for pline in pf:\n",
    "        plist[pi]=pline.rstrip('\\n').split(\",\")\n",
    "        #print plist[pi]\n",
    "        pi+=1\n",
    "print plist[1][0]\n",
    "print plist[1][1]\n",
    "print plist\n",
    "      "
   ]
  },
  {
   "cell_type": "code",
   "execution_count": 3,
   "metadata": {},
   "outputs": [
    {
     "name": "stdout",
     "output_type": "stream",
     "text": [
      "Assassin\n",
      "49\n",
      "2/5\n",
      "3/7\n",
      "3/9\n",
      "4\n",
      "6\n",
      "9\n"
     ]
    }
   ],
   "source": [
    "plist = {}\n",
    "pi=1\n",
    "with open(\"cfg/pro2.csv\") as pf:\n",
    "    for pline in pf:\n",
    "        plist[pi]=pline.rstrip('\\n').split(\",\")\n",
    "        #print plist[pi]\n",
    "        pi+=1\n",
    "xi=0\n",
    "for x in plist[1]:\n",
    "    print plist[1][xi]\n",
    "    xi+=1\n",
    "\n",
    "#print plist[1][0]\n",
    "#print plist[1][3]\n",
    "#print plist"
   ]
  },
  {
   "cell_type": "code",
   "execution_count": null,
   "metadata": {
    "collapsed": true
   },
   "outputs": [],
   "source": []
  }
 ],
 "metadata": {
  "kernelspec": {
   "display_name": "Python 2",
   "language": "python",
   "name": "python2"
  },
  "language_info": {
   "codemirror_mode": {
    "name": "ipython",
    "version": 2
   },
   "file_extension": ".py",
   "mimetype": "text/x-python",
   "name": "python",
   "nbconvert_exporter": "python",
   "pygments_lexer": "ipython2",
   "version": "2.7.14"
  }
 },
 "nbformat": 4,
 "nbformat_minor": 2
}
