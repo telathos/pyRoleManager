{
 "cells": [
  {
   "cell_type": "code",
   "execution_count": 1,
   "metadata": {},
   "outputs": [
    {
     "name": "stdout",
     "output_type": "stream",
     "text": [
      "ro\n",
      "[u'Acrobatics', u'AG/QU', u'3/7']\n",
      "[u'Adrenal Move: Landing', u'PR/SD', u'3']\n",
      "[u'Advanced Math', u'RE/ME', u'3/6']\n",
      "[u'Advertising', u'IN/RE', u'3/5']\n"
     ]
    }
   ],
   "source": [
    "import json\n",
    "# Reading data back\n",
    "with open('char/ro.json', 'r') as f:\n",
    "     data = json.load(f)\n",
    "\n",
    "print data['name']\n",
    "print data['s1']\n",
    "print data['s5']\n",
    "print data['s10']\n",
    "print data['s11']"
   ]
  },
  {
   "cell_type": "code",
   "execution_count": null,
   "metadata": {
    "collapsed": true
   },
   "outputs": [],
   "source": []
  }
 ],
 "metadata": {
  "kernelspec": {
   "display_name": "Python 2",
   "language": "python",
   "name": "python2"
  },
  "language_info": {
   "codemirror_mode": {
    "name": "ipython",
    "version": 2
   },
   "file_extension": ".py",
   "mimetype": "text/x-python",
   "name": "python",
   "nbconvert_exporter": "python",
   "pygments_lexer": "ipython2",
   "version": "2.7.13"
  }
 },
 "nbformat": 4,
 "nbformat_minor": 2
}
