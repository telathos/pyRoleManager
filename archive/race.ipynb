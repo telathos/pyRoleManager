{
 "cells": [
  {
   "cell_type": "code",
   "execution_count": 4,
   "metadata": {},
   "outputs": [
    {
     "name": "stdout",
     "output_type": "stream",
     "text": [
      "\n",
      "---------- Race ----------\n",
      "\n",
      "1. Common Man\n",
      "2. Wood Elf      3. High Elf      4. Half-elf\n",
      "5. Grey Elf      6. Aquatic Elf   7. Dark Elf\n",
      "\n",
      "8. Tallfellow Halfling      9. Stout Halfling\n",
      "\n",
      "10. Dwarf        11. Half-Dwarf\n",
      "12. Half-Orc   13. Half-Ogre    14. Half-Troll\n",
      "\n",
      "-------------------------\n"
     ]
    }
   ],
   "source": [
    " # Select Race\n",
    "print \"\"\n",
    "print 10 * \"-\", \"Race\", 10 * \"-\"\n",
    "print \"\"\n",
    "print \"1. Common Man\"\n",
    "print \"2. Wood Elf      3. High Elf      4. Half-elf\"\n",
    "print \"5. Grey Elf      6. Aquatic Elf   7. Dark Elf\"\n",
    "print \"\"\n",
    "print \"8. Tallfellow Halfling      9. Stout Halfling\"\n",
    "print \"\"\n",
    "print \"10. Dwarf        11. Half-Dwarf\"\n",
    "print \"12. Half-Orc   13. Half-Ogre    14. Half-Troll\"\n",
    "print \"\"\n",
    "print 25 * \"-\""
   ]
  },
  {
   "cell_type": "code",
   "execution_count": null,
   "metadata": {
    "collapsed": true
   },
   "outputs": [],
   "source": []
  }
 ],
 "metadata": {
  "kernelspec": {
   "display_name": "Python 2",
   "language": "python",
   "name": "python2"
  },
  "language_info": {
   "codemirror_mode": {
    "name": "ipython",
    "version": 2
   },
   "file_extension": ".py",
   "mimetype": "text/x-python",
   "name": "python",
   "nbconvert_exporter": "python",
   "pygments_lexer": "ipython2",
   "version": "2.7.13"
  }
 },
 "nbformat": 4,
 "nbformat_minor": 2
}
