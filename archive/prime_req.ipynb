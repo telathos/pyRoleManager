{
 "cells": [
  {
   "cell_type": "code",
   "execution_count": 32,
   "metadata": {},
   "outputs": [
    {
     "name": "stdout",
     "output_type": "stream",
     "text": [
      "\n",
      "This is a Prime Requister and must be 90 or higher\n",
      "Enter a new number: 55\n",
      "Enter a new number: 110\n",
      "Enter a new number: 45\n",
      "Enter a new number: 98\n",
      "98\n"
     ]
    }
   ],
   "source": [
    "num=\"\"\n",
    "print num\n",
    "def prime_req(pro,char_stat,num):\n",
    "    if pro==1:\n",
    "        if char_stat.upper()==\"ST\" or char_stat.upper()==\"CO\":\n",
    "            print \"\"\"This is a Prime Requister and must be 90 or higher\"\"\"\n",
    "            while num<90 or num>=105:\n",
    "                num=int(raw_input('Enter a new number: '))\n",
    "                \n",
    "            return num\n",
    "st_stat=prime_req(1,\"st\",89)\n",
    "print st_stat"
   ]
  },
  {
   "cell_type": "code",
   "execution_count": 24,
   "metadata": {},
   "outputs": [
    {
     "ename": "TypeError",
     "evalue": "prime_req() takes exactly 3 arguments (0 given)",
     "output_type": "error",
     "traceback": [
      "\u001b[1;31m---------------------------------------------------------------------------\u001b[0m",
      "\u001b[1;31mTypeError\u001b[0m                                 Traceback (most recent call last)",
      "\u001b[1;32m<ipython-input-24-69dd272461f9>\u001b[0m in \u001b[0;36m<module>\u001b[1;34m()\u001b[0m\n\u001b[1;32m----> 1\u001b[1;33m \u001b[1;32mprint\u001b[0m \u001b[0mprime_req\u001b[0m\u001b[1;33m(\u001b[0m\u001b[1;33m)\u001b[0m\u001b[1;33m\u001b[0m\u001b[0m\n\u001b[0m\u001b[0;32m      2\u001b[0m \u001b[1;33m\u001b[0m\u001b[0m\n",
      "\u001b[1;31mTypeError\u001b[0m: prime_req() takes exactly 3 arguments (0 given)"
     ]
    }
   ],
   "source": [
    "%%writefile\n",
    "\n"
   ]
  },
  {
   "cell_type": "code",
   "execution_count": null,
   "metadata": {
    "collapsed": true
   },
   "outputs": [],
   "source": []
  }
 ],
 "metadata": {
  "kernelspec": {
   "display_name": "Python 2",
   "language": "python",
   "name": "python2"
  },
  "language_info": {
   "codemirror_mode": {
    "name": "ipython",
    "version": 2
   },
   "file_extension": ".py",
   "mimetype": "text/x-python",
   "name": "python",
   "nbconvert_exporter": "python",
   "pygments_lexer": "ipython2",
   "version": "2.7.13"
  }
 },
 "nbformat": 4,
 "nbformat_minor": 2
}
