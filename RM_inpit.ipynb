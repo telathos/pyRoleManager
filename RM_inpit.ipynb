{
 "cells": [
  {
   "cell_type": "code",
   "execution_count": 12,
   "metadata": {},
   "outputs": [
    {
     "name": "stdout",
     "output_type": "stream",
     "text": [
      "Please enter your name: Rob\n",
      "Profession\n",
      "Profession: Bitch\n",
      "Rob\n",
      "Bitch\n",
      "Rob:Bitch\n"
     ]
    }
   ],
   "source": [
    "user_name=str(raw_input('Please enter your name: '))\n",
    "print 'Profession'\n",
    "pro_name=raw_input('Profession: ')\n",
    "print(user_name)\n",
    "print(pro_name)\n",
    "file = open(\"rm.txt\",\"w\")\n",
    "file.write(user_name)\n",
    "file.write(\":\")\n",
    "file.write(pro_name)\n",
    "file.close()\n",
    "file=open(\"rm.txt\",\"r\")\n",
    "print file.read()"
   ]
  },
  {
   "cell_type": "raw",
   "metadata": {},
   "source": []
  },
  {
   "cell_type": "code",
   "execution_count": null,
   "metadata": {
    "collapsed": true
   },
   "outputs": [],
   "source": []
  }
 ],
 "metadata": {
  "kernelspec": {
   "display_name": "Python 2",
   "language": "python",
   "name": "python2"
  },
  "language_info": {
   "codemirror_mode": {
    "name": "ipython",
    "version": 2
   },
   "file_extension": ".py",
   "mimetype": "text/x-python",
   "name": "python",
   "nbconvert_exporter": "python",
   "pygments_lexer": "ipython2",
   "version": "2.7.13"
  }
 },
 "nbformat": 4,
 "nbformat_minor": 2
}
