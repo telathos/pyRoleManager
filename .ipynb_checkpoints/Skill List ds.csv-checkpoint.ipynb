{
 "cells": [
  {
   "cell_type": "code",
   "execution_count": null,
   "metadata": {
    "collapsed": true
   },
   "outputs": [],
   "source": [
    "cfg_dir='cfg'\n",
    "char={}\n",
    "\n",
    "with open(cfg_dir+\"/ds.csv\") as f:\n",
    "    sl=f.read().splitlines()\n",
    "f.close()\n",
    "skill_list=[]\n",
    "\n",
    "for list in sl:\n",
    "    skill_list.append(list.split(\",\"))\n",
    "y=len(skill_list)\n",
    "print y\n",
    "#for skills in range(1,y+1):\n",
    "#    print skills\n",
    "crt=1\n",
    "for outer_list in skill_list:\n",
    "    #print outer_list[1]\n",
    "    #print outer_list[5]\n",
    "    s='s'+`crt`\n",
    "    char[s]=(outer_list[1],outer_list[5])\n",
    "    crt+=1\n",
    " \n",
    "print char"
   ]
  }
 ],
 "metadata": {
  "kernelspec": {
   "display_name": "Python 2",
   "language": "python",
   "name": "python2"
  },
  "language_info": {
   "codemirror_mode": {
    "name": "ipython",
    "version": 2
   },
   "file_extension": ".py",
   "mimetype": "text/x-python",
   "name": "python",
   "nbconvert_exporter": "python",
   "pygments_lexer": "ipython2",
   "version": "2.7.14"
  }
 },
 "nbformat": 4,
 "nbformat_minor": 2
}
