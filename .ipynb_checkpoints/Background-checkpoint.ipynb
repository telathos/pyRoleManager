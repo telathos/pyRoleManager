{
 "cells": [
  {
   "cell_type": "code",
   "execution_count": 14,
   "metadata": {},
   "outputs": [
    {
     "name": "stdout",
     "output_type": "stream",
     "text": [
      "--------------- Background Options ---------------\n",
      "|\n",
      "1,Hemophilia: All bleeding results are doubled.,Dark Temptation\n",
      "2\n",
      "Psychotic Temper - Base (40 - SD Mod)% chance of responding to insult or offense with a killing fit.\n",
      "\n"
     ]
    }
   ],
   "source": [
    "print 15 * \"-\", \"Background Options\", 15 * \"-\"\n",
    "print \"|\"\n",
    "bg={}\n",
    "with open('cfg/backgrd.csv') as f1:\n",
    "    bgl=f1.read().splitlines()\n",
    "f1.close()\n",
    "print bgl[0]\n",
    "for x in bgl[1].split(\",\"):\n",
    "    print x\n",
    "#bg1=int(raw_input('Enter a background option: '))\n"
   ]
  },
  {
   "cell_type": "code",
   "execution_count": 4,
   "metadata": {},
   "outputs": [
    {
     "name": "stdout",
     "output_type": "stream",
     "text": [
      "--------------- Background Options ---------------\n",
      "|\n",
      "|\n",
      "Number of miscellaneous Bonuses: 5\n",
      "1\n",
      "2\n",
      "3\n",
      "4\n",
      "5\n"
     ]
    }
   ],
   "source": [
    "print 15 * \"-\", \"Background Options\", 15 * \"-\"\n",
    "print \"|\"\n",
    "print \"|\" \n",
    "bckgrnd_num = int(raw_input('Number of miscellaneous Bonuses: '))\n",
    "mbx=1\n",
    "while mbx<=int(bckgrnd_num):\n",
    "    \n",
    "    print mbx\n",
    "    mbx+=1\n",
    "    \n",
    "    "
   ]
  },
  {
   "cell_type": "code",
   "execution_count": null,
   "metadata": {
    "collapsed": true
   },
   "outputs": [],
   "source": []
  }
 ],
 "metadata": {
  "kernelspec": {
   "display_name": "Python 2",
   "language": "python",
   "name": "python2"
  },
  "language_info": {
   "codemirror_mode": {
    "name": "ipython",
    "version": 2
   },
   "file_extension": ".py",
   "mimetype": "text/x-python",
   "name": "python",
   "nbconvert_exporter": "python",
   "pygments_lexer": "ipython2",
   "version": "2.7.13"
  }
 },
 "nbformat": 4,
 "nbformat_minor": 2
}
