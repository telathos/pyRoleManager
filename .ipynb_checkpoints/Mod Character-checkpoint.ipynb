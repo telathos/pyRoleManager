{
 "cells": [
  {
   "cell_type": "code",
   "execution_count": 8,
   "metadata": {},
   "outputs": [
    {
     "name": "stdout",
     "output_type": "stream",
     "text": [
      "----- Characters -----\n",
      "1 .)  Burke\n",
      "2 .)  New\n",
      "3 .)  Rose\n",
      "4 .)  Coder\n",
      "5 .)  Awyen\n",
      "6 .)  Awyen2\n",
      "7 .)  Rose-Lvl1\n",
      "8 .)  Rose-Lvl2\n",
      "-------------------------\n",
      "menu_len: 8\n",
      "Select Character: 8\n",
      "0\n"
     ]
    }
   ],
   "source": [
    "import os.path\n",
    "import zipfile\n",
    "\n",
    "char_dir=\"char\"\n",
    "cfg_dir=\"cfg\"\n",
    "\n",
    "# Create a menu of characters\n",
    "def create_char_menu():\n",
    "    menu_items = []\n",
    "    \n",
    "    def char_menu():\n",
    "        i=1\n",
    "        print 5 * \"-\", \"Characters\", 5 * \"-\"\n",
    "        for file in os.listdir(char_dir):\n",
    "            if file.endswith(\".txt\"):\n",
    "                menu_list=file.split(\".\")[0]\n",
    "                print i,\".) \",menu_list.title()\n",
    "                i+=1\n",
    "                menu_items.insert(i,menu_list)\n",
    "        print 25 * \"-\"\n",
    "        return menu_items\n",
    "\n",
    "    # Run menu\n",
    "    p=char_menu()\n",
    "    menu_len=len(p)\n",
    "    print \"menu_len:\",menu_len\n",
    "    \n",
    "    while True:\n",
    "        s=int(raw_input(\"Select Character: \"))\n",
    "        if s >=1 and s<=menu_len:\n",
    "            break\n",
    "        else:\n",
    "            print \"Invalid Selection! Select a character from the list\"\n",
    "\n",
    "    # Open the character file\n",
    "    file=open(char_dir+\"/\"+p[s-1]+\".txt\",\"r\")\n",
    "    char_data=file.read()\n",
    "    #print char_data\n",
    "    char_dict=[]\n",
    "    counter=0\n",
    "\n",
    "    for words in char_data.split(\":\"):\n",
    "        #print counter,\"-\",words\n",
    "        char_dict.insert(counter,words)\n",
    "        counter+=1\n",
    "    return s\n",
    "        \n",
    "create_char_menu()\n",
    "\n",
    "print s\n"
   ]
  },
  {
   "cell_type": "code",
   "execution_count": 41,
   "metadata": {},
   "outputs": [
    {
     "name": "stdout",
     "output_type": "stream",
     "text": [
      "[]\n",
      "creating archive\n",
      "[]\n",
      "creating archive\n",
      "rose.txt\n",
      "['rose.txt']\n",
      "creating archive\n",
      "['rose.txt']\n",
      "creating archive\n",
      "['rose.txt']\n",
      "creating archive\n",
      "['rose.txt']\n",
      "creating archive\n",
      "rose-lvl1.txt\n",
      "['rose.txt', 'rose-lvl1.txt']\n",
      "creating archive\n",
      "rose-lvl2.txt\n",
      "['rose.txt', 'rose-lvl1.txt', 'rose-lvl2.txt']\n",
      "creating archive\n"
     ]
    }
   ],
   "source": [
    "user_name=\"rose\"\n",
    "tarch=[]\n",
    "for file in os.listdir(char_dir):\n",
    "    if file.startswith(user_name) == True:\n",
    "        print file\n",
    "        tarch.append(file)\n",
    "    print tarch\n",
    "\n",
    "    print 'creating archive'\n",
    "    #zf = zipfile.ZipFile('zipfile_write.zip', mode='w')\n",
    "    #try:\n",
    "        #print 'adding README.txt'\n",
    "        #zf.write(tarch)\n",
    "    #finally:\n",
    "        #print 'closing'\n",
    "        #zf.close()\n",
    "\n",
    "    #print\n"
   ]
  },
  {
   "cell_type": "code",
   "execution_count": null,
   "metadata": {
    "collapsed": true
   },
   "outputs": [],
   "source": []
  }
 ],
 "metadata": {
  "kernelspec": {
   "display_name": "Python 2",
   "language": "python",
   "name": "python2"
  },
  "language_info": {
   "codemirror_mode": {
    "name": "ipython",
    "version": 2
   },
   "file_extension": ".py",
   "mimetype": "text/x-python",
   "name": "python",
   "nbconvert_exporter": "python",
   "pygments_lexer": "ipython2",
   "version": "2.7.13"
  }
 },
 "nbformat": 4,
 "nbformat_minor": 2
}
