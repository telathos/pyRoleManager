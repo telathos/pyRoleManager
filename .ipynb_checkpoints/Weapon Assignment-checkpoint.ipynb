{
 "cells": [
  {
   "cell_type": "code",
   "execution_count": 17,
   "metadata": {},
   "outputs": [
    {
     "ename": "KeyError",
     "evalue": "'name'",
     "output_type": "error",
     "traceback": [
      "\u001b[1;31m---------------------------------------------------------------------------\u001b[0m",
      "\u001b[1;31mKeyError\u001b[0m                                  Traceback (most recent call last)",
      "\u001b[1;32m<ipython-input-17-b1feead6798a>\u001b[0m in \u001b[0;36m<module>\u001b[1;34m()\u001b[0m\n\u001b[0;32m     24\u001b[0m     \u001b[0mcrt\u001b[0m\u001b[1;33m+=\u001b[0m\u001b[1;36m1\u001b[0m\u001b[1;33m\u001b[0m\u001b[0m\n\u001b[0;32m     25\u001b[0m \u001b[1;33m\u001b[0m\u001b[0m\n\u001b[1;32m---> 26\u001b[1;33m \u001b[1;32mprint\u001b[0m \u001b[0mchar\u001b[0m\u001b[1;33m[\u001b[0m\u001b[1;34m'name'\u001b[0m\u001b[1;33m]\u001b[0m\u001b[1;33m\u001b[0m\u001b[0m\n\u001b[0m\u001b[0;32m     27\u001b[0m \u001b[1;32mprint\u001b[0m \u001b[0mchar\u001b[0m\u001b[1;33m\u001b[0m\u001b[0m\n\u001b[0;32m     28\u001b[0m \u001b[1;31m#with open(char_dir+'/'+user_name+'.json', 'w') as f:\u001b[0m\u001b[1;33m\u001b[0m\u001b[1;33m\u001b[0m\u001b[0m\n",
      "\u001b[1;31mKeyError\u001b[0m: 'name'"
     ]
    }
   ],
   "source": [
    "# Testing data\n",
    "cfg_dir=\"cfg\"\n",
    "char_dir=\"char\"\n",
    "user_name=\"one\"\n",
    "plist={}\n",
    "pro_ch=1\n",
    "char={}\n",
    "# Open skill list file and and to character file\n",
    "with open(cfg_dir+\"/ds.csv\") as f:\n",
    "    sl=f.read().splitlines()\n",
    "f.close()\n",
    "skill_list=[]\n",
    "\n",
    "for list in sl:\n",
    "    skill_list.append(list.split(\",\"))\n",
    "crt=1\n",
    "for outer_list in skill_list:\n",
    "    s='s'+`crt`\n",
    "    #index=int(plist[pro_ch][1])\n",
    "    index=10\n",
    "    #print index\n",
    "    #print outer_list\n",
    "    char[s]=(outer_list[1],outer_list[5],outer_list[index])\n",
    "    crt+=1\n",
    "\n",
    "print char['name']\n",
    "print char\n",
    "#with open(char_dir+'/'+user_name+'.json', 'w') as f:\n",
    "#    f.write(json.dumps(char))"
   ]
  },
  {
   "cell_type": "code",
   "execution_count": 2,
   "metadata": {},
   "outputs": [
    {
     "name": "stdout",
     "output_type": "stream",
     "text": [
      "Assassin\n",
      "Sleuth\n",
      "Fighter\n"
     ]
    }
   ],
   "source": [
    "x1,x2,x3=\"Assassin\",\"Sleuth\",\"Fighter\"\n",
    "\n",
    "def wea_assign(pro):\n",
    "    print pro\n",
    "    \n",
    "wea_assign(x3)"
   ]
  },
  {
   "cell_type": "code",
   "execution_count": null,
   "metadata": {
    "collapsed": true
   },
   "outputs": [],
   "source": []
  }
 ],
 "metadata": {
  "kernelspec": {
   "display_name": "Python 2",
   "language": "python",
   "name": "python2"
  },
  "language_info": {
   "codemirror_mode": {
    "name": "ipython",
    "version": 2
   },
   "file_extension": ".py",
   "mimetype": "text/x-python",
   "name": "python",
   "nbconvert_exporter": "python",
   "pygments_lexer": "ipython2",
   "version": "2.7.13"
  }
 },
 "nbformat": 4,
 "nbformat_minor": 2
}
