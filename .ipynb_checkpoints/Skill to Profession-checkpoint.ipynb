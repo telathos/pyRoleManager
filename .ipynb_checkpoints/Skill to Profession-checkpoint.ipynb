{
 "cells": [
  {
   "cell_type": "code",
   "execution_count": 26,
   "metadata": {},
   "outputs": [
    {
     "name": "stdout",
     "output_type": "stream",
     "text": [
      "id - 0\n",
      "skillname - 1\n",
      "stat1 - 2\n",
      "stat2 - 3\n",
      "stat3 - 4\n",
      "stats - 5\n",
      "category - 6\n",
      "wea - 7\n",
      "Alchemist - 8\n",
      "Animist - 9\n",
      "Barbarian - 10\n",
      "Burglar - 11\n",
      "Dancer - 12\n",
      "Fighter - 13\n",
      "High Warrior Monk - 14\n",
      "Rogue - 15\n",
      "Scholar - 16\n",
      "Thief - 17\n",
      "Trader - 18\n",
      "Warrior Monk - 19\n",
      "Bard - 20\n",
      "Beastmaster - 21\n",
      "Delver - 22\n",
      "Dervish - 23\n",
      "Monk - 24\n",
      "Nightblade - 25\n",
      "Paladin - 26\n",
      "Ranger - 27\n",
      "Warrior Mage - 28\n",
      "Archmage - 29\n",
      "Sorcerer - 30\n",
      "Magician - 31\n",
      "Runemaster - 32\n",
      "Conjuror - 33\n",
      "Illusionist - 34\n",
      "Cleric - 35\n",
      "Druid - 36\n",
      "Healer - 37\n",
      "Shaman - 38\n",
      "Lay Healer - 39\n",
      "Sage - 40\n",
      "Mentalist - 41\n",
      "Seer - 42\n",
      "Astrologer - 43\n",
      "Crystal Mage - 44\n",
      "Mystic - 45\n",
      "Necromancer - 46\n",
      "Warlock - 47\n",
      "Witch - 48\n",
      "Assassin - 49\n",
      "Bounty Hunter - 50\n",
      "Warrior - 51\n",
      "Noble Warrior - 52\n",
      "Montebanc - 53\n",
      "Sleuth - 54\n",
      "Magus - 55\n",
      "\n",
      "id,skillname,stat1,stat2,stat3,stats,category,wea,Alchemist,Animist,Barbarian,Burglar,Dancer,Fighter,High Warrior Monk,Rogue,Scholar,Thief,Trader,Warrior Monk,Bard,Beastmaster,Delver,Dervish,Monk,Nightblade,Paladin,Ranger,Warrior Mage,Archmage,Sorcerer,Magician,Runemaster,Conjuror,Illusionist,Cleric,Druid,Healer,Shaman,Lay Healer,Sage,Mentalist,Seer,Astrologer,Crystal Mage,Mystic,Necromancer,Warlock,Witch,Assassin,Bounty Hunter,Warrior,Noble Warrior,Montebanc,Sleuth,Magus\n",
      "\n"
     ]
    }
   ],
   "source": [
    "d={}\n",
    "i=0\n",
    "with open(\"cfg/ds_old.csv\") as file:\n",
    "    rb=file.readlines()\n",
    "    for x in rb[0].rstrip(\"\\n\").split(\",\"):\n",
    "        print x,\"-\", i\n",
    "        i+=1\n",
    "print         \n",
    "print rb[0]"
   ]
  },
  {
   "cell_type": "code",
   "execution_count": null,
   "metadata": {
    "collapsed": true
   },
   "outputs": [],
   "source": []
  }
 ],
 "metadata": {
  "kernelspec": {
   "display_name": "Python 2",
   "language": "python",
   "name": "python2"
  },
  "language_info": {
   "codemirror_mode": {
    "name": "ipython",
    "version": 2
   },
   "file_extension": ".py",
   "mimetype": "text/x-python",
   "name": "python",
   "nbconvert_exporter": "python",
   "pygments_lexer": "ipython2",
   "version": "2.7.13"
  }
 },
 "nbformat": 4,
 "nbformat_minor": 2
}
