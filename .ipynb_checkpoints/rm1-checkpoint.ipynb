{
 "cells": [
  {
   "cell_type": "code",
   "execution_count": 19,
   "metadata": {
    "collapsed": true
   },
   "outputs": [],
   "source": [
    "import os.path\n",
    "def pro_list():\n",
    "    print 25 * \"-\" , \"Professions\", 25 * \"-\"\n",
    "    print \"1. Figher\"\n",
    "    print \"2. Magician\"\n",
    "    print \"3. Sorceror\"\n",
    "    print \"4. Druid\"\n",
    "    print 63 * \"-\"\n",
    "\n",
    "pro_name=\"\"\n",
    "def create_char():\n",
    "    user_name=str(raw_input('Please enter your name: '))\n",
    "    if os.path.exists(user_name+\".txt\") == True:\n",
    "        print \"Character exists\"\n",
    "        exit\n",
    "    else:\n",
    "        global pro_name\n",
    "        file = open(user_name+\".txt\",\"w\")\n",
    "        file.write(user_name)\n",
    "        pro_list()\n",
    "        # print pro_name\n",
    "        pro_choose=str(raw_input('Choose a Profession: '))\n",
    "        if pro_choose==1:\n",
    "            pro_name=\"Fighter\"\n",
    "            print \"Fighter\"\n",
    "            return pro_name\n",
    "        elif pro_choose==2:\n",
    "            pro_name=\"Magican\"\n",
    "            print \"Magician\"\n",
    "        elif pro_choose==3:\n",
    "            pro_name=\"Sorceror\"\n",
    "            print \"Sorceror\"\n",
    "        file.write(\":\")\n",
    "        print \"Pro\"\n",
    "        print pro_name\n",
    "        file.write(pro_name)\n",
    "        file.close()\n",
    "        file=open(user_name+\".txt\",\"r\")\n",
    "        print file.read()\n"
   ]
  },
  {
   "cell_type": "code",
   "execution_count": 21,
   "metadata": {},
   "outputs": [
    {
     "name": "stdout",
     "output_type": "stream",
     "text": [
      "Please enter your name: yuy\n",
      "------------------------- Professions -------------------------\n",
      "1. Figher\n",
      "2. Magician\n",
      "3. Sorceror\n",
      "4. Druid\n",
      "---------------------------------------------------------------\n",
      "Choose a Profession: 1\n",
      "Pro\n",
      "\n",
      "yuy:\n"
     ]
    }
   ],
   "source": [
    "pro_name=\"\"\n",
    "create_char()"
   ]
  },
  {
   "cell_type": "code",
   "execution_count": 13,
   "metadata": {},
   "outputs": [
    {
     "ename": "TypeError",
     "evalue": "descriptor 'read' of 'file' object needs an argument",
     "output_type": "error",
     "traceback": [
      "\u001b[1;31m---------------------------------------------------------------------------\u001b[0m",
      "\u001b[1;31mTypeError\u001b[0m                                 Traceback (most recent call last)",
      "\u001b[1;32m<ipython-input-13-8516e7ac23b4>\u001b[0m in \u001b[0;36m<module>\u001b[1;34m()\u001b[0m\n\u001b[1;32m----> 1\u001b[1;33m \u001b[1;32mprint\u001b[0m \u001b[0mfile\u001b[0m\u001b[1;33m.\u001b[0m\u001b[0mread\u001b[0m\u001b[1;33m(\u001b[0m\u001b[1;33m)\u001b[0m\u001b[1;33m\u001b[0m\u001b[0m\n\u001b[0m",
      "\u001b[1;31mTypeError\u001b[0m: descriptor 'read' of 'file' object needs an argument"
     ]
    }
   ],
   "source": [
    "print file.read()"
   ]
  },
  {
   "cell_type": "code",
   "execution_count": null,
   "metadata": {
    "collapsed": true
   },
   "outputs": [],
   "source": []
  }
 ],
 "metadata": {
  "kernelspec": {
   "display_name": "Python 2",
   "language": "python",
   "name": "python2"
  },
  "language_info": {
   "codemirror_mode": {
    "name": "ipython",
    "version": 2
   },
   "file_extension": ".py",
   "mimetype": "text/x-python",
   "name": "python",
   "nbconvert_exporter": "python",
   "pygments_lexer": "ipython2",
   "version": "2.7.13"
  }
 },
 "nbformat": 4,
 "nbformat_minor": 2
}
