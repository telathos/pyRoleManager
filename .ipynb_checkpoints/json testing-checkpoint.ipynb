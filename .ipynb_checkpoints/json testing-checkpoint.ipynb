{
 "cells": [
  {
   "cell_type": "code",
   "execution_count": 8,
   "metadata": {},
   "outputs": [
    {
     "name": "stdout",
     "output_type": "stream",
     "text": [
      "99\n",
      "Barbarian\n",
      "AG/QU\n"
     ]
    }
   ],
   "source": [
    "import json\n",
    "from pprint import pprint\n",
    "\n",
    "data = {\n",
    "   'name' : 'ACME',\n",
    "   'shares' : 100,\n",
    "   'price' : 542.23\n",
    "}\n",
    "\n",
    "json_str = json.dumps(data)\n",
    "\n",
    "# Writing JSON data\n",
    "with open('data.json', 'w') as f:\n",
    "     json.dump(data, f)\n",
    "\n",
    "# Reading data back\n",
    "with open('char/conan.json', 'r') as f:\n",
    "     data = json.load(f)\n",
    "print data['st_stat']\n",
    "print data['pro_name']\n",
    "print data['s1'][1]"
   ]
  },
  {
   "cell_type": "code",
   "execution_count": 82,
   "metadata": {},
   "outputs": [
    {
     "ename": "TypeError",
     "evalue": "string indices must be integers",
     "output_type": "error",
     "traceback": [
      "\u001b[1;31m---------------------------------------------------------------------------\u001b[0m",
      "\u001b[1;31mTypeError\u001b[0m                                 Traceback (most recent call last)",
      "\u001b[1;32m<ipython-input-82-4768b9e4d277>\u001b[0m in \u001b[0;36m<module>\u001b[1;34m()\u001b[0m\n\u001b[1;32m----> 1\u001b[1;33m \u001b[0mdata\u001b[0m\u001b[1;33m[\u001b[0m\u001b[1;34m\"pro_name\"\u001b[0m\u001b[1;33m]\u001b[0m\u001b[1;33m\u001b[0m\u001b[0m\n\u001b[0m",
      "\u001b[1;31mTypeError\u001b[0m: string indices must be integers"
     ]
    }
   ],
   "source": [
    "data[\"pro_name\"]"
   ]
  },
  {
   "cell_type": "code",
   "execution_count": 15,
   "metadata": {
    "scrolled": true
   },
   "outputs": [
    {
     "name": "stdout",
     "output_type": "stream",
     "text": [
      "289\n",
      "{'s226': ('Polearm', 'ST/ST/AG'), 's270': ('Honing', 'AG/EM'), 's221': ('Light Crossbow', 'AG/AG/ST'), 's271': ('Hygiene', 'CO/SD'), 's220': ('Lance', 'ST/ST/AG'), 's179': ('Streetwise', 'PR/IN'), 's178': ('Stone Lore', 'ME/RE'), 's223': ('Mace', 'ST/ST/AG'), 's273': ('Mind Block', 'SD/PR'), 's288': ('TWC - Scimitar: LH', 'ST/ST/AG'), 's171': ('Spell Mastery', ''), 's170': ('Spell List', ''), 's173': ('Stalk & Hide', 'AG/SD'), 's172': ('Sprinting', 'QU'), 's175': ('Stilt Walking', 'ST/AG'), 's174': ('Star-Gazing', 'ME/IN'), 's177': ('Stone Evaluation', 'IN/RE'), 's176': ('Stone Crafts', 'SD/AG'), 's207': ('Wood Crafts', 'AG/EM'), 's197': ('Trap-Building', 'RE/EM'), 's205': ('Weather-Watching', 'IN/EM'), 's204': ('Warding Lore', 'ME/RE'), 's203': ('Ventriloquism', 'SD/IN'), 's202': ('Use/Remove Poison', 'AG/IN'), 's201': ('Tumbling Evasion', 'AG/QU'), 's196': ('Transcend Armor', 'NA'), 's209': ('Battle Axe', 'ST/ST/AG'), 's208': ('Yado', 'QU/AG'), 's57': ('Drafting', 'RE/ME'), 's56': ('Dowsing', 'EM'), 's55': ('Diving', 'SD/AG'), 's54': ('Divination', 'IN/EM'), 's53': ('Distance Running', 'CO'), 's52': ('Disguise', 'PR/SD'), 's51': ('Disarm Trap', 'IN/AG'), 's50': ('Disarm Foe', 'NULL'), 's279': ('Weapon/Armor Maintenance', 'AG/SD'), 's59': ('Driving', 'AG/QU'), 's58': ('Dragon Lore', 'ME/RE'), 's238': ('Riding - Horse', 'EM/AG'), 's233': ('Spear', 'ST/ST/AG'), 's183': ('Surgery', 'SD/EM/IN'), 's189': ('Tale Telling', 'PR/ME'), 's200': ('Tumbling Attack', 'AG/ST'), 's259': ('Defensive Weaving', 'NA'), 's237': ('Whip', 'ST/ST/AG'), 's232': ('Sling', 'AG/AG/ST'), 's135': ('Play Instruments: Category 1', 'AG/ME'), 's230': ('Short Bow', 'AG/AG/ST'), 's231': ('Short Sword', 'ST/ST/AG'), 's108': ('M.A. Sweeps Rank3', 'AG/AG/ST'), 's109': ('M.A. Sweeps Rank4', 'AG/AG/ST'), 's234': ('Two-Handed Sword', 'ST/ST/AG'), 's134': ('Planetology', 'RE/EM'), 's104': ('M.A. Strikes Rank3', 'ST/ST/AG'), 's105': ('M.A. Strikes Rank4', 'ST/ST/AG'), 's106': ('M.A. Sweeps Rank1', 'AG/AG/ST'), 's107': ('M.A. Sweeps Rank2', 'AG/AG/ST'), 's100': ('Maneuvering in Chain', 'AG'), 's101': ('Maneuvering in Plate', 'AG'), 's102': ('M.A. Strikes Rank1', 'ST/ST/AG'), 's103': ('M.A. Strikes Rank2', 'ST/ST/AG'), 's44': ('Detect Traps', 'IN'), 's45': ('Diagnostics', 'IN/RE'), 's46': ('Diplomacy', 'PR/IN'), 's47': ('Directed Spells - Bolts', 'AG'), 's40': ('Cookery', 'RE/AG'), 's41': ('Crafting', 'AG/SD'), 's42': ('Dance', 'AG/IN'), 's43': ('Demon/Devil Lore', 'ME/RE'), 's131': ('Physics', 'RE/ME'), 's198': ('Trickery', 'PR/QU'), 's48': ('Direction Sense', 'IN/RE'), 's49': ('Disarm Foe', 'NULL'), 's130': ('Phil./Relig. Doctrine', 'ME/RE'), 's239': ('Play Instruments: Category 2', 'AG/ME'), 's133': ('Pick Pockets', 'AG/IN'), 's137': ('Poison Lore', 'ME/RE'), 's132': ('Picking Locks', 'IN/RE/AG'), 's287': ('TWC - Scimitar: RH', 'ST/ST/AG'), 's286': ('Whip Grapple : 4', 'AG/ST'), 's285': ('Whip Grapple : 3', 'AG/ST'), 's184': ('Surveillance', 'IN/SD'), 's284': ('Whip Grapple : 2', 'AG/ST'), 's229': ('Scimitar', 'ST/ST/AG'), 's228': ('Rapier', 'ST/ST/AG'), 's119': ('Metal Lore', 'ME/RE'), 's118': ('Metal Evaluation', 'IN/RE'), 's117': ('Meditation: Trance', 'PR/SD'), 's116': ('Meditation: Sleep', 'SD/IN'), 's115': ('Meditation: Ki', 'SD/PR'), 's114': ('Meditation: Healing', 'SD/EM'), 's113': ('Meditation: Death', 'SD/PR'), 's112': ('Meditation: Cleansing', 'SD/EM'), 's111': ('Mechanition', 'RE/AG'), 's110': ('Mapping', 'RE/ME'), 's79': ('Hide Item', 'RE/IN'), 's78': ('Herding', 'EM/PR'), 's195': ('Trading Lore', 'ME/RE'), 's187': ('Tactical Games', 'RE/ME'), 's193': ('Tracking', 'IN/RE'), 's192': ('Time Sense', 'IN/ME'), 's191': ('Tightrope Walking', 'AG/SD'), 's190': ('Targeting Skill', 'IN/AG'), 's71': ('Frenzy', 'EM/SD'), 's70': ('Foraging', 'IN/ME'), 's73': ('General Perception', 'IN/IN/RE'), 's72': ('Gambling', 'ME/PR'), 's75': ('Grappling Hook', 'AG'), 's74': ('Gimmickry', 'IN/RE'), 's77': ('Herb Lore', 'ME/RE'), 's76': ('Heraldry', 'ME/RE'), 's275': ('Prepared Shot', 'SD/IN'), 's19': ('Architecture', 'RE/ME'), 's18': ('Appraisal', 'RE/ME'), 's236': ('War Mattock', 'ST/ST/AG'), 's182': ('Surfing', 'AG/SD'), 's206': ('Weapon Evaluation', 'IN/RE'), 's13': ('Ambush', 'NA'), 's12': ('Alchemy', 'RE/ME'), 's11': ('Advertising', 'IN/RE'), 's10': ('Advanced Math', 'RE/ME'), 's17': ('Anthropology', 'IN/EM'), 's16': ('Animal Training', 'EM/PR'), 's15': ('Animal Healing', 'EM/RE'), 's14': ('Animal Handling', 'EM/PR'), 's93': ('Loading', 'EM/RE'), 's92': ('Lip Reading', 'IN/RE'), 's91': ('Linguistics', 'NA'), 's90': ('Lie Perception', 'IN/RE'), 's97': ('Magical Ritual', 'RE/ME'), 's96': ('Magical Language', 'NA'), 's95': ('Lock Lore', 'ME/RE'), 's94': ('Locate Secret Opening', 'IN/RE'), 's99': ('Maneuvering in Rigid Leather', 'AG'), 's98': ('Maneuvering in Soft Leather', 'AG'), 's258': ('Cryptography', 'IN/RE'), 's222': ('Long Bow', 'AG/AG/ST'), 's128': ('Navigation', 'RE/IN'), 's129': ('Painting', 'IN/AG'), 's281': ('Weapon Snare', 'QU/AG'), 's185': ('Swimming', 'AG'), 's122': ('Mimicry', 'IN/SD'), 's123': ('Mimery', 'AG/SD'), 's120': ('Midwifery', 'EM/ME/IN'), 's121': ('Military Organization', 'PR/RE'), 's126': ('Mnemonics', 'ME/SD'), 's127': ('Music', 'AG/EM'), 's124': ('Mining', 'RE/IN'), 's125': ('Missile Artillery', 'IN/AG'), 's68': ('Flora Lore', 'ME/RE'), 's69': ('Fying/Gliding', 'ME/RE'), 's66': ('First Aid', 'SD/EM'), 's67': ('Fletching', 'AG/SD'), 's64': ('Falsification', 'SD/RE'), 's65': ('Fauna Lore', 'ME/RE'), 's62': ('Engineering', 'RE/ME'), 's63': ('Faerie Lore', 'ME/RE'), 's60': ('Drug Tolerance', 'CO/SD'), 's61': ('Duping', 'PR'), 's186': ('Symbol Lore', 'ME/RE'), 's225': ('Morning Star', 'ST/ST/AG'), 's256': ('Blind Fighting:Touch', 'RE/EM'), 's80': ('Horticulture', 'RE/EM'), 's81': ('Hostile Environments', 'AG/SD'), 's82': ('Hypnosis', 'PR/SD'), 's83': ('Iai', 'QU/AG'), 's84': ('Interrogation', 'RE/AG'), 's85': ('Juggling', 'AG/IN'), 's86': ('Jumping', 'ST/AG'), 's87': ('Lancing', 'ST/AG'), 's88': ('Leadership', 'PR/RE'), 's89': ('Leather Working', 'AG/RE'), 's139': ('Pole Vaulting', 'ST/AG'), 's138': ('Poison Perception', 'IN/RE'), 's249': ('Directed Spells - Adrenal Focus', 'AG'), 's248': ('Shield Bash', 'ST/ST/AG'), 's243': ('zz_Weapon2', 'NULL'), 's242': ('zz_Weapon1', 'NULL'), 's241': ('Adrenal Defense', 'NA'), 's240': ('Play Instruments: Category 3', 'AG/ME'), 's136': ('Poetic Improvisation', 'IN/RE'), 's246': ('zz_Weapon5', 'NULL'), 's245': ('zz_Weapon4', 'NULL'), 's244': ('zz_Weapon3', 'NULL'), 's247': ('zz_Weapon6', 'NULL'), 's180': ('Stunned Maneuvering', 'SD'), 's39': ('Control Lycanthropy', 'SD'), 's38': ('Contortions', 'AG/SD'), 's194': ('Trading', 'RE/EM'), 's35': ('Channeling', 'IN'), 's34': ('Caving', 'SD/RE'), 's37': ('Climbing', 'AG'), 's36': ('Circle Lore', 'ME/RE'), 's31': ('Brawling', 'RE/IN'), 's30': ('Body Development', 'CO'), 's33': ('Camouflage', 'RE/IN'), 's32': ('Bribery', 'PR/RE'), 's140': ('Power Perception', 'IN/RE'), 's141': ('Power Projection', 'NA'), 's142': ('Propaganda', 'IN/EM'), 's143': ('Public Speaking', 'EM/PR'), 's144': ('Racial History', 'ME/RE'), 's145': ('Rappling', 'AG'), 's146': ('Read Tracks', 'IN/RE'), 's147': ('Region Lore', 'RE/ME'), 's148': ('Reverse Stroke', 'AG/RE'), 's149': ('Rope Mastery', 'ME/AG'), 's278': ('Unhorsing', 'ST/ST/AG'), 's181': ('Subduing', 'AG/QU'), 's261': ('Directed Strength', 'SD'), 's260': ('Dentistry', 'ME/AG'), 's282': ('Weapon Trickery', 'AG/QU'), 's263': ('Donning/Doffing Armor:SL', 'QU/AG'), 's250': ('Adrenal Spell Avoidance', 'PR'), 's262': ('Distract Foe', 'AG/QU'), 's251': ('Airborne Combat', 'AG/QU'), 's265': ('Donning/Doffing Armor:Chain', 'QU/AG'), 's252': ('Awakening', 'IN'), 's264': ('Donning/Doffing Armor:RL', 'QU/AG'), 's276': ('Seaborne Combat', 'AG/AG/IN'), 's253': ('Battle Perception', 'IN/ME'), 's267': ('Feinting', 'QU/PR'), 's254': ('Blind Fighting:Hearing', 'RE/EM'), 's266': ('Donning/Doffing Armor:Plate', 'QU/AG'), 's188': ('Tactics', 'IN/RE'), 's153': ('Sanity Healing Lore', 'ME/EM'), 's152': ('Sailing', 'AG/IN'), 's151': ('Runes', 'EM/IN'), 's150': ('Rowing', 'ST/SD'), 's157': ('Seduction', 'EM/PR'), 's156': ('Second Aid', 'SD/EM/IN'), 's155': ('Scrounge', 'IN/RE'), 's154': ('Sculpting', 'IN/AG'), 's269': ('Holding Breath', 'CO/SD'), 's268': ('Focus', 'SD'), 's159': ('Sense Ambush/Assassin', 'IN/RE'), 's158': ('Siege Engineer', 'RE/IN'), 's277': ('Taunting', 'IN'), 's9': ('Adrenal Move: Strength', 'PR/SD'), 's8': ('Adrenal Move: Speed', 'PR/SD'), 's283': ('Whip Grapple : 1', 'AG/ST'), 's3': ('Administration', 'RE/PR'), 's2': ('Acting', 'PR/EM'), 's1': ('Acrobatics', 'AG/QU'), 's7': ('Adrenal Move: Quick Draw', 'PR/SD'), 's6': ('Adrenal Move: Leaping', 'PR/SD'), 's5': ('Adrenal Move: Landing', 'PR/SD'), 's4': ('Adrenal Move: Balance', 'PR/SD'), 's224': ('Main Gauche', 'ST/ST/AG'), 's274': ('Moving Strike', 'AG/SD'), 's289': ('Dagger', 'ST'), 's255': ('Blind Fighting:Smell', 'RE/ME'), 's168': ('Smithing', 'ST/AG'), 's169': ('Spacial Locate Awareness', 'IN'), 's166': ('Skiing', 'AG/SD'), 's167': ('Skinning', 'AG/IN'), 's164': ('Silent Kill', 'AG/IN'), 's165': ('Skating', 'AG/SD'), 's162': ('Signaling', 'ME/SD'), 's163': ('Singing', 'PR/IN'), 's160': ('Sense Reality Warp', 'IN/EM'), 's161': ('Set Traps', 'RE/AG'), 's214': ('Dagger', 'ST/ST/AG'), 's215': ('Falchion', 'ST/ST/AG'), 's216': ('Flail', 'ST/ST/AG'), 's217': ('Hand Axe', 'ST/ST/AG'), 's210': ('Bola', 'AG/AG/ST'), 's211': ('Broadsword', 'ST/ST/AG'), 's212': ('Club', 'ST/ST/AG'), 's213': ('Composite Bow', 'AG/AG/ST'), 's235': ('War Hammer', 'ST/ST/AG'), 's218': ('Heavy Crossbow', 'AG/AG/ST'), 's219': ('Javelin', 'ST/ST/AG'), 's22': ('Athletic Games', 'ST/AG/QU'), 's23': ('Attunement', 'EM/IN'), 's20': ('Armor Evaluation', 'IN/RE'), 's21': ('Astronomy', 'ME/RE'), 's26': ('Begging', 'PR/EM'), 's27': ('Biochemistry', 'IN/RE'), 's24': ('Basic Math', 'RE/ME'), 's25': ('Beast Mastery', 'EM/PR'), 's280': ('Weapon Brawling', 'AG/QU/ST'), 's272': ('Intimidation', 'PR/RE'), 's28': ('Boat Pilot', 'ME/AG'), 's29': ('Body Damage Stablize', 'SD/EM'), 's257': ('Blind Fighting:Intuition', 'IN'), 's227': ('Quarterstaff', 'ST/ST/AG'), 's199': ('Tumbling', 'AG/SD')}\n"
     ]
    }
   ],
   "source": [
    "cfg_dir='cfg'\n",
    "char={}\n",
    "\n",
    "with open(cfg_dir+\"/ds.csv\") as f:\n",
    "    sl=f.read().splitlines()\n",
    "f.close()\n",
    "skill_list=[]\n",
    "\n",
    "for list in sl:\n",
    "    skill_list.append(list.split(\",\"))\n",
    "y=len(skill_list)\n",
    "print y\n",
    "#for skills in range(1,y+1):\n",
    "#    print skills\n",
    "crt=1\n",
    "for outer_list in skill_list:\n",
    "    #print outer_list[1]\n",
    "    #print outer_list[5]\n",
    "    s='s'+`crt`\n",
    "    char[s]=(outer_list[1],outer_list[5])\n",
    "    crt+=1\n",
    " \n",
    "print char"
   ]
  },
  {
   "cell_type": "code",
   "execution_count": 14,
   "metadata": {},
   "outputs": [
    {
     "name": "stdout",
     "output_type": "stream",
     "text": [
      "ro\n",
      "[u'Acrobatics', u'AG/QU', u'3/7']\n",
      "[u'Adrenal Move: Landing', u'PR/SD', u'3']\n",
      "[u'Advanced Math', u'RE/ME', u'3/6']\n",
      "[u'Advertising', u'IN/RE', u'3/5']\n"
     ]
    }
   ],
   "source": []
  },
  {
   "cell_type": "code",
   "execution_count": 91,
   "metadata": {},
   "outputs": [
    {
     "name": "stdout",
     "output_type": "stream",
     "text": [
      "Guido\n"
     ]
    }
   ],
   "source": [
    "json_string = '{\"first_name\": \"Guido\", \"last_name\":\"Rossum\"}'\n",
    "import json\n",
    "parsed_json = json.loads(json_string)\n",
    "print(parsed_json['first_name'])"
   ]
  },
  {
   "cell_type": "code",
   "execution_count": null,
   "metadata": {
    "collapsed": true
   },
   "outputs": [],
   "source": []
  }
 ],
 "metadata": {
  "kernelspec": {
   "display_name": "Python 2",
   "language": "python",
   "name": "python2"
  },
  "language_info": {
   "codemirror_mode": {
    "name": "ipython",
    "version": 2
   },
   "file_extension": ".py",
   "mimetype": "text/x-python",
   "name": "python",
   "nbconvert_exporter": "python",
   "pygments_lexer": "ipython2",
   "version": "2.7.13"
  }
 },
 "nbformat": 4,
 "nbformat_minor": 2
}
